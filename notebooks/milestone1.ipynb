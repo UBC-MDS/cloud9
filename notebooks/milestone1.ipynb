{
 "cells": [
  {
   "cell_type": "markdown",
   "id": "a39074e9",
   "metadata": {},
   "source": [
    "# Milestone 1"
   ]
  },
  {
   "cell_type": "markdown",
   "id": "75829bc5",
   "metadata": {},
   "source": [
    "Team Name: Cloud 9\n",
    "    \n",
    "Team members:\n",
    "- Chad Neald\n",
    "    - Windows10, 8GB memory, Dual cores i5\n",
    "- Elina Lin\n",
    "    - macOs, 16 GB memory, Quad cores i5\n",
    "- Jordan Lau\n",
    "    - macOS, 8GB memory, Dual Core i5\n",
    "- Rafael Pilliard Hellwig\n",
    "    - macOS, 32GB memory, 6x core i9"
   ]
  },
  {
   "cell_type": "markdown",
   "id": "7b5e4911",
   "metadata": {},
   "source": [
    "> Attribution: Many parts of this assignment are adapted from code authored by Gittu George in his DSCI 525 lecture notes."
   ]
  },
  {
   "cell_type": "markdown",
   "id": "62dbe39e",
   "metadata": {},
   "source": [
    "## Part 0: Housekeeping\n",
    "\n",
    "A few additional software packages are required in addition to those from the course conda environment:"
   ]
  },
  {
   "cell_type": "code",
   "execution_count": 1,
   "id": "8dd24488",
   "metadata": {},
   "outputs": [
    {
     "name": "stdout",
     "output_type": "stream",
     "text": [
      "Collecting package metadata (current_repodata.json): done\n",
      "Solving environment: done\n",
      "\n",
      "# All requested packages already installed.\n",
      "\n",
      "\n",
      "Note: you may need to restart the kernel to use updated packages.\n"
     ]
    }
   ],
   "source": [
    "%conda install altair r-tidyverse -y"
   ]
  },
  {
   "cell_type": "markdown",
   "id": "6bb1f13c",
   "metadata": {},
   "source": [
    "Next, we load required modules:"
   ]
  },
  {
   "cell_type": "code",
   "execution_count": 2,
   "id": "26adf01d",
   "metadata": {},
   "outputs": [],
   "source": [
    "import dask.dataframe as dd\n",
    "import re\n",
    "import os\n",
    "import glob\n",
    "import sys\n",
    "import zipfile\n",
    "import requests\n",
    "from urllib.request import urlretrieve\n",
    "import json\n",
    "import pandas as pd\n",
    "import numpy as np\n",
    "from memory_profiler import memory_usage\n",
    "from os import listdir\n",
    "\n",
    "import pyarrow.parquet as pq\n",
    "import pyarrow.dataset as ds\n",
    "import pyarrow.feather as feather\n",
    "import rpy2_arrow.pyarrow_rarrow as pyra\n",
    "import altair as alt"
   ]
  },
  {
   "cell_type": "code",
   "execution_count": 3,
   "id": "7c66d7a6",
   "metadata": {},
   "outputs": [],
   "source": [
    "# Save a vega-lite spec and a PNG blob for each plot in the notebook\n",
    "alt.renderers.enable('mimetype');"
   ]
  },
  {
   "cell_type": "code",
   "execution_count": 4,
   "id": "390a3b3f",
   "metadata": {},
   "outputs": [],
   "source": [
    "%load_ext memory_profiler"
   ]
  },
  {
   "cell_type": "markdown",
   "id": "0efb0a56",
   "metadata": {},
   "source": [
    "## Part 1: Team-work contract"
   ]
  },
  {
   "cell_type": "markdown",
   "id": "c5681191",
   "metadata": {},
   "source": [
    "The team contract can be found in Canvas."
   ]
  },
  {
   "cell_type": "markdown",
   "id": "46376484",
   "metadata": {},
   "source": [
    "## Part 2: Creating repository and project structure"
   ]
  },
  {
   "cell_type": "markdown",
   "id": "37614d4d",
   "metadata": {},
   "source": [
    "The repo structure can be found in the main branch of [UBC-MDS/cloud9](https://github.com/UBC-MDS/cloud9).\n",
    "\n",
    "```bash\n",
    ".\n",
    "├── LICENSE\n",
    "├── README.md\n",
    "├── figshareairline\n",
    "└── notebooks\n",
    "    ├── method1.ipynb\n",
    "    ├── method2.ipynb\n",
    "    ├── method3.ipynb\n",
    "    ├── method4.ipynb\n",
    "    ├── method5.ipynb\n",
    "    ├── method6.ipynb\n",
    "    ├── method7.ipynb\n",
    "    └── milestone1.ipynb\n",
    "```\n",
    "\n",
    "\n",
    "Our team decided to try different data-loading methods in separate notebooks, so that each method could be run in full isolation in its own kernel. This would also allow team members to attempt to run an entire method, without a notebook potentially crashing before getting to methods further down in the analytical workflow."
   ]
  },
  {
   "cell_type": "markdown",
   "id": "007c05ab",
   "metadata": {},
   "source": [
    "## Part 3: Downloading the data"
   ]
  },
  {
   "cell_type": "markdown",
   "id": "52554688",
   "metadata": {},
   "source": [
    "For this assignment, we will use Tomas Beuzen's [_Daily rainfall over NSW_](https://figshare.com/articles/dataset/Daily_rainfall_over_NSW_Australia/14096681/3) data. .\n",
    "\n",
    "We'll save all our data--raw and intermediary-- to the following directory:"
   ]
  },
  {
   "cell_type": "code",
   "execution_count": 5,
   "id": "5ee0e08c",
   "metadata": {},
   "outputs": [],
   "source": [
    "output_directory = \"figshareairline/\""
   ]
  },
  {
   "cell_type": "markdown",
   "id": "624cf5e3",
   "metadata": {},
   "source": [
    "Since there are multiple files in the figshare repo, we will download this programatically"
   ]
  },
  {
   "cell_type": "code",
   "execution_count": 6,
   "id": "dc202747",
   "metadata": {},
   "outputs": [],
   "source": [
    "# Create a dictionary of files on Tom's figshare repo, along with metadata\n",
    "article_id = 14096681\n",
    "url = f\"https://api.figshare.com/v2/articles/{article_id}\"\n",
    "headers = {\"Content-Type\": \"application/json\"}\n",
    "\n",
    "# get the JSON of the repo files\n",
    "response = requests.request(\"GET\", url, headers=headers)\n",
    "data = json.loads(response.text)\n",
    "files = data[\"files\"]"
   ]
  },
  {
   "cell_type": "markdown",
   "id": "e80644f3",
   "metadata": {},
   "source": [
    "We start by making a directory, if needed:"
   ]
  },
  {
   "cell_type": "code",
   "execution_count": 7,
   "id": "c79f1f78",
   "metadata": {},
   "outputs": [],
   "source": [
    "os.makedirs(output_directory, exist_ok=True)"
   ]
  },
  {
   "cell_type": "markdown",
   "id": "bdba0499",
   "metadata": {},
   "source": [
    "Next, we specify that we only wish to download the `data.zip` file from the many files in the figshare repo:"
   ]
  },
  {
   "cell_type": "code",
   "execution_count": 8,
   "id": "91a9a00f",
   "metadata": {},
   "outputs": [],
   "source": [
    "files_to_dl = [\"data.zip\"]"
   ]
  },
  {
   "cell_type": "markdown",
   "id": "2ddee3cb",
   "metadata": {},
   "source": [
    "Finally, we download the file:"
   ]
  },
  {
   "cell_type": "code",
   "execution_count": 9,
   "id": "3e13cced",
   "metadata": {},
   "outputs": [],
   "source": [
    "# download missing files\n",
    "for item in filter(lambda x: x['name'] in files_to_dl, files):\n",
    "    filename = os.path.join(output_directory, item[\"name\"])\n",
    "    if not os.path.isfile(filename):\n",
    "        urlretrieve(item[\"download_url\"], filename)"
   ]
  },
  {
   "cell_type": "markdown",
   "id": "c8f28ffc",
   "metadata": {},
   "source": [
    "In part 4, we are reading in the data directly from the zip file, so no ZIP extraction is necessary as this would needlessly take up disk space. Since some of our teammates were short on available disk space, we chose not to run this. \n",
    "\n",
    "However, if we wanted to unzip the files to disk, we would run the following code:"
   ]
  },
  {
   "cell_type": "code",
   "execution_count": 10,
   "id": "b9778b69",
   "metadata": {},
   "outputs": [],
   "source": [
    "# this block gets skipped\n",
    "if False:\n",
    "    with zipfile.ZipFile(os.path.join(output_directory, \"data.zip\"), 'r') as f:\n",
    "        f.extractall(output_directory)"
   ]
  },
  {
   "cell_type": "markdown",
   "id": "516a022b",
   "metadata": {},
   "source": [
    "This method of working with extracted CSVs is shown in several _methods notebooks_ listed in part 4."
   ]
  },
  {
   "cell_type": "markdown",
   "id": "f7156312",
   "metadata": {},
   "source": [
    "## Part 4: Combining data CSVs"
   ]
  },
  {
   "cell_type": "markdown",
   "id": "9535b795",
   "metadata": {},
   "source": [
    "In this step, we will combine the 27 CSV files in the `data.zip` into one large CSV file that we will write to disk. As per Tom Beuzen's guidance on Slack forums, we are excluding the file `observed_daily_rainfall_SYD.csv` from this analysis.\n",
    "\n",
    "Our team attempted 7 different approaches to loading the data into memory:\n",
    "\n",
    "- [Method 1](https://github.com/UBC-MDS/cloud9/blob/main/notebooks/method1.ipynb): Reading-in the CSVs from the zip file directly (no unzipping)]\n",
    "- [Method 2](https://github.com/UBC-MDS/cloud9/blob/main/notebooks/method2.ipynb): Unzipping the file, then reading-in each CSV file (with pd.concat)\n",
    "- [Method 3](https://github.com/UBC-MDS/cloud9/blob/main/notebooks/method3.ipynb): Unzipping the file, then reading-in each CSV file (with append)\n",
    "- [Method 4](https://github.com/UBC-MDS/cloud9/blob/main/notebooks/method4.ipynb): Change datatypes from float64 to float32\n",
    "- [Method 5](https://github.com/UBC-MDS/cloud9/blob/main/notebooks/method5.ipynb): Select only columns we care about (time, rainfall, and model name)\n",
    "- [Method 6](https://github.com/UBC-MDS/cloud9/blob/main/notebooks/method6.ipynb): Chunking the read step (increments of 1mn rows)\n",
    "- [Method 7](https://github.com/UBC-MDS/cloud9/blob/main/notebooks/method7.ipynb): Dask\n",
    "\n",
    "\n",
    "Each team member attempted these methods and reported the time and memory requirements:\n",
    "\n",
    "\n",
    "\n",
    "|                                  | Memory (MiB) | Wall Time (hh:mm:ss) | Memory (MiB) | Wall Time (hh:mm:ss) | Memory (MiB) | Wall Time (hh:mm:ss) | Memory (MiB) | Wall Time (hh:mm:ss) |\n",
    "| -------------------------------- | ------------ | -------------------- | ------------ | -------------------- | ------------ | -------------------- | ------------ | -------------------- |\n",
    "|                                  | Chad   |         Chad                   | Elina      |      Elina    | Jordan      |      Jordan              | Raf    |             Raf           |\n",
    "| Method 1 - Pandas on zip         | 4937.63      | 00:06:26             | 6074.06      | 00:01:08             | 2728.92      | 1min 31s             | 10,824       | 00:01:14             |\n",
    "| Method 2 - Pandas on unzipped    | 5665.94      | 00:10:40             | 6491.25      | 00:00:58             | 3376.7       | 1min 34s             | 9,747        | 00:01:00             |\n",
    "| Method 3 - Append                | CRASHED      | CRASHED              | 9049.7       | 00:02:32             | 4713.11      | 5min 1s              | 12,652       | 00:02:54             |\n",
    "| Method 4 - Change dtypes         | 3908.91      | 00:03:28             | 4346.09      | 00:00:57             | 3930.02      | 1min 14s             | 6,418        | 00:01:09             |\n",
    "| Method 5 - Selective columns     | 2672.21      | 00:02:54             | 4007.17      | 00:00:45             | 2667.77      | 59.8 s               | 4,694        | 00:00:52             |\n",
    "| Method 6 - Chunking (1e6)        | 3279.76      | 00:03:24             | 3311.48      | 00:01:31             | 3163.36      | 1min 47s             | 12,239       | 00:01:50             |\n",
    "| Method 7 - Dask (data load only) | 4.35         | 00:00:03             | 9.86         | 00:00:01             | 9.6          | 1.36 s               | 7            | 00:00:01             |\n",
    "\n",
    "\n",
    "\n"
   ]
  },
  {
   "cell_type": "markdown",
   "id": "d1058aa1",
   "metadata": {},
   "source": [
    "We can see some wildly different results. In particular, it seems that on Raf's machine-- which had ample memory and processing power-- the memory requirements were very large and unpredictable. We hypothesize that this might be because the computer is not necessarily trying to optimize or swap memory if the memory pressure is low.\n",
    "\n",
    "In terms of winning strategies, _selective columns_ look like it worked well, but naturally causes loss of information prior to EDA. Dask was amazingly quick to load-- but writing it to parquet for subsequent use in R proved difficult. Going from Dask to CSV took just as long as looping and using traditional pandas approaches. To our knowledge, Dask cannot connect to individual files in a zip without first unzipping them.\n",
    "\n",
    "Although all team members had sufficient disk space to complete the above methods, some team members ran out of disk space when trying to write the object from memory back to a combo CSV (requires approx 6 GB). In the end, since everyone had decent results using **Method 1**, we decided to use this approach to read the data into memory to avoid making copies of files. Additionally, in order to write a combination CSV file to disk, we decided to use pandas' _append_ mode of writing to disk, so that only a single CSV is held in memory at a given time while we build the combo CSV. Together, these two approaches allowed us to keep the disk space requirement low.\n",
    "\n",
    "Let's run the chosen approach:"
   ]
  },
  {
   "cell_type": "code",
   "execution_count": 11,
   "id": "53670cab",
   "metadata": {},
   "outputs": [],
   "source": [
    "# open a read-only connection to zip file\n",
    "zfile = zipfile.ZipFile(glob.glob(output_directory + \"*.zip\")[0], \"r\")\n",
    "\n",
    "# list non-hidden files in zip\n",
    "z_csvs = list(filter(lambda x: not x.startswith(\"__\"), zfile.namelist()))\n",
    "z_csvs = [x for x in z_csvs if \"observed\" not in x]"
   ]
  },
  {
   "cell_type": "code",
   "execution_count": 12,
   "id": "7b22257b",
   "metadata": {},
   "outputs": [
    {
     "name": "stdout",
     "output_type": "stream",
     "text": [
      "peak memory: 2457.36 MiB, increment: 2176.38 MiB\n",
      "CPU times: user 5min 47s, sys: 12.9 s, total: 6min\n",
      "Wall time: 6min 5s\n"
     ]
    }
   ],
   "source": [
    "%%time\n",
    "%%memit\n",
    "\n",
    "# write to CSV\n",
    "combo_file = output_directory + \"combo_data.csv\"\n",
    "if not os.path.isfile(combo_file):\n",
    "    # write an empty dataframe to CSV\n",
    "    cols = [\"model\", \"time\", \"lat_min\", \"lat_max\", \"lon_min\", \"lon_max\", \"rain (mm/day)\"]\n",
    "    pd.DataFrame(columns=cols).to_csv(combo_file,index=False)\n",
    "\n",
    "    # populate the combo file with ZIP contents\n",
    "    for csv in z_csvs:\n",
    "        df = pd.read_csv(zfile.open(csv))\n",
    "        df[\"model\"] = csv.split('_daily')[0]\n",
    "        df[cols].to_csv(combo_file, mode='a', header=False, index=False)\n",
    "        del df"
   ]
  },
  {
   "cell_type": "markdown",
   "id": "ae6beb46",
   "metadata": {},
   "source": [
    "On Raf's computer, this step takes about 6 minutes. Results on other machines typically were 1.5-4 times slower."
   ]
  },
  {
   "cell_type": "markdown",
   "id": "6592b0f5",
   "metadata": {},
   "source": [
    "## Part 5: Load the combined CSV to memory and perform a simple EDA"
   ]
  },
  {
   "cell_type": "markdown",
   "id": "3108588d",
   "metadata": {},
   "source": [
    "### Option 5.1: Selective selection of columns with float32"
   ]
  },
  {
   "cell_type": "code",
   "execution_count": 13,
   "id": "13d01304",
   "metadata": {},
   "outputs": [
    {
     "name": "stdout",
     "output_type": "stream",
     "text": [
      "peak memory: 5020.48 MiB, increment: 2880.10 MiB\n",
      "CPU times: user 45.8 s, sys: 3.43 s, total: 49.2 s\n",
      "Wall time: 50.9 s\n"
     ]
    }
   ],
   "source": [
    "%%time\n",
    "%%memit\n",
    "\n",
    "# define the dtypes\n",
    "colspec = {\"time\": \"str\",\n",
    "           \"lat_min\": np.float32,\n",
    "           \"lat_max\": np.float32,\n",
    "           \"lon_min\": np.float32,\n",
    "           \"lon_max\": np.float32,\n",
    "           \"rain (mm/day)\": np.float32}\n",
    "\n",
    "# select cols\n",
    "usecols = [\"model\", \"time\", \"rain (mm/day)\"]\n",
    "\n",
    "# read-in the combo file\n",
    "dat = pd.read_csv(combo_file, dtype=colspec, parse_dates=[\"time\"], usecols=usecols)"
   ]
  },
  {
   "cell_type": "markdown",
   "id": "b3642719",
   "metadata": {},
   "source": [
    "Our team was not sure if it was necessary to specify `float32` types for columns being discarded, but we figured it couldn't do any harm."
   ]
  },
  {
   "cell_type": "markdown",
   "id": "5fa1b5c7",
   "metadata": {},
   "source": [
    "### Option 5.2: Dask"
   ]
  },
  {
   "cell_type": "markdown",
   "id": "633ca32a",
   "metadata": {},
   "source": [
    "Our next option is reading-in the combined file using dask:"
   ]
  },
  {
   "cell_type": "code",
   "execution_count": 14,
   "id": "4ceed07c",
   "metadata": {},
   "outputs": [
    {
     "name": "stdout",
     "output_type": "stream",
     "text": [
      "peak memory: 3567.16 MiB, increment: 0.04 MiB\n",
      "CPU times: user 162 ms, sys: 125 ms, total: 287 ms\n",
      "Wall time: 1.14 s\n"
     ]
    }
   ],
   "source": [
    "%%time\n",
    "%%memit\n",
    "\n",
    "# read-in with dask\n",
    "dat = dd.read_csv(combo_file)"
   ]
  },
  {
   "cell_type": "markdown",
   "id": "811cc684",
   "metadata": {},
   "source": [
    "From the profiling, it is apparent that Dask has a negligible memory footprint."
   ]
  },
  {
   "cell_type": "code",
   "execution_count": 15,
   "id": "42fe28a5",
   "metadata": {},
   "outputs": [
    {
     "data": {
      "text/html": [
       "<div>\n",
       "<style scoped>\n",
       "    .dataframe tbody tr th:only-of-type {\n",
       "        vertical-align: middle;\n",
       "    }\n",
       "\n",
       "    .dataframe tbody tr th {\n",
       "        vertical-align: top;\n",
       "    }\n",
       "\n",
       "    .dataframe thead th {\n",
       "        text-align: right;\n",
       "    }\n",
       "</style>\n",
       "<table border=\"1\" class=\"dataframe\">\n",
       "  <thead>\n",
       "    <tr style=\"text-align: right;\">\n",
       "      <th></th>\n",
       "      <th>model</th>\n",
       "      <th>time</th>\n",
       "      <th>lat_min</th>\n",
       "      <th>lat_max</th>\n",
       "      <th>lon_min</th>\n",
       "      <th>lon_max</th>\n",
       "      <th>rain (mm/day)</th>\n",
       "    </tr>\n",
       "  </thead>\n",
       "  <tbody>\n",
       "    <tr>\n",
       "      <th>0</th>\n",
       "      <td>MPI-ESM-1-2-HAM</td>\n",
       "      <td>1889-01-01 12:00:00</td>\n",
       "      <td>-35.439867</td>\n",
       "      <td>-33.574619</td>\n",
       "      <td>141.5625</td>\n",
       "      <td>143.4375</td>\n",
       "      <td>4.244226e-13</td>\n",
       "    </tr>\n",
       "    <tr>\n",
       "      <th>1</th>\n",
       "      <td>MPI-ESM-1-2-HAM</td>\n",
       "      <td>1889-01-02 12:00:00</td>\n",
       "      <td>-35.439867</td>\n",
       "      <td>-33.574619</td>\n",
       "      <td>141.5625</td>\n",
       "      <td>143.4375</td>\n",
       "      <td>4.217326e-13</td>\n",
       "    </tr>\n",
       "    <tr>\n",
       "      <th>2</th>\n",
       "      <td>MPI-ESM-1-2-HAM</td>\n",
       "      <td>1889-01-03 12:00:00</td>\n",
       "      <td>-35.439867</td>\n",
       "      <td>-33.574619</td>\n",
       "      <td>141.5625</td>\n",
       "      <td>143.4375</td>\n",
       "      <td>4.498125e-13</td>\n",
       "    </tr>\n",
       "    <tr>\n",
       "      <th>3</th>\n",
       "      <td>MPI-ESM-1-2-HAM</td>\n",
       "      <td>1889-01-04 12:00:00</td>\n",
       "      <td>-35.439867</td>\n",
       "      <td>-33.574619</td>\n",
       "      <td>141.5625</td>\n",
       "      <td>143.4375</td>\n",
       "      <td>4.251282e-13</td>\n",
       "    </tr>\n",
       "    <tr>\n",
       "      <th>4</th>\n",
       "      <td>MPI-ESM-1-2-HAM</td>\n",
       "      <td>1889-01-05 12:00:00</td>\n",
       "      <td>-35.439867</td>\n",
       "      <td>-33.574619</td>\n",
       "      <td>141.5625</td>\n",
       "      <td>143.4375</td>\n",
       "      <td>4.270161e-13</td>\n",
       "    </tr>\n",
       "  </tbody>\n",
       "</table>\n",
       "</div>"
      ],
      "text/plain": [
       "             model                 time    lat_min    lat_max   lon_min  \\\n",
       "0  MPI-ESM-1-2-HAM  1889-01-01 12:00:00 -35.439867 -33.574619  141.5625   \n",
       "1  MPI-ESM-1-2-HAM  1889-01-02 12:00:00 -35.439867 -33.574619  141.5625   \n",
       "2  MPI-ESM-1-2-HAM  1889-01-03 12:00:00 -35.439867 -33.574619  141.5625   \n",
       "3  MPI-ESM-1-2-HAM  1889-01-04 12:00:00 -35.439867 -33.574619  141.5625   \n",
       "4  MPI-ESM-1-2-HAM  1889-01-05 12:00:00 -35.439867 -33.574619  141.5625   \n",
       "\n",
       "    lon_max  rain (mm/day)  \n",
       "0  143.4375   4.244226e-13  \n",
       "1  143.4375   4.217326e-13  \n",
       "2  143.4375   4.498125e-13  \n",
       "3  143.4375   4.251282e-13  \n",
       "4  143.4375   4.270161e-13  "
      ]
     },
     "execution_count": 15,
     "metadata": {},
     "output_type": "execute_result"
    }
   ],
   "source": [
    "dat.head()"
   ]
  },
  {
   "cell_type": "code",
   "execution_count": 16,
   "id": "f2a867b8",
   "metadata": {},
   "outputs": [
    {
     "name": "stdout",
     "output_type": "stream",
     "text": [
      "62467843\n",
      "peak memory: 6365.70 MiB, increment: 2746.59 MiB\n",
      "CPU times: user 1min 22s, sys: 16.9 s, total: 1min 39s\n",
      "Wall time: 30.8 s\n"
     ]
    }
   ],
   "source": [
    "%%time\n",
    "%%memit\n",
    "\n",
    "print(dat.shape[0].compute())"
   ]
  },
  {
   "cell_type": "markdown",
   "id": "2e080ccb",
   "metadata": {},
   "source": [
    "We can see that a 'simple' operation of counting the number of rows took much longer than the near-instantaneous `.shape` attribute we are accustomed to with the usual pandas DataFrames.\n",
    "\n",
    "Let's try a more realistic EDA scenario, where we would want to look at average rainfall by model:"
   ]
  },
  {
   "cell_type": "code",
   "execution_count": 17,
   "id": "2a3fcdab",
   "metadata": {},
   "outputs": [
    {
     "name": "stdout",
     "output_type": "stream",
     "text": [
      "               model      mean       std\n",
      "0      MPI-ESM1-2-HR  0.995569  4.083814\n",
      "1      MPI-ESM1-2-LR  1.074308  3.911700\n",
      "2          KIOST-ESM  1.102353  3.852051\n",
      "3         MRI-ESM2-0  1.368030  4.517987\n",
      "4           GFDL-CM4  1.414485  5.024926\n",
      "5   EC-Earth3-Veg-LR  1.516258  4.714335\n",
      "6    MPI-ESM-1-2-HAM  1.610720  4.885519\n",
      "7              NESM3  1.621936  4.971972\n",
      "8        FGOALS-f3-L  1.627373  5.747396\n",
      "9         ACCESS-CM2  1.787025  5.914188\n",
      "10          BCC-ESM1  1.811032  5.358361\n",
      "11           CanESM5  1.894328  5.835787\n",
      "12       BCC-CSM2-MR  1.951832  6.200969\n",
      "13    AWI-ESM-1-1-LR  2.026071  5.321889\n",
      "14         FGOALS-g3  2.156419  6.015488\n",
      "15       SAM0-UNICON  2.169676  6.383241\n",
      "16     ACCESS-ESM1-5  2.217501  6.422397\n",
      "17           TaiESM1  2.224576  5.886578\n",
      "18        NorESM2-LM  2.230799  5.681562\n",
      "19        NorESM2-MM  2.232966  6.151688\n",
      "20         CMCC-ESM2  2.266125  5.538429\n",
      "21      CMCC-CM2-HR4  2.279350  5.629965\n",
      "22            MIROC6  2.301662  6.393745\n",
      "23      CMCC-CM2-SR5  2.383389  5.895950\n",
      "24         INM-CM5-0  2.669012  6.534084\n",
      "25         INM-CM4-8  2.811463  6.266301\n",
      "26         GFDL-ESM4       NaN       NaN\n",
      "peak memory: 4108.02 MiB, increment: 758.37 MiB\n",
      "CPU times: user 2min 43s, sys: 29.1 s, total: 3min 12s\n",
      "Wall time: 1min 3s\n"
     ]
    }
   ],
   "source": [
    "%%time\n",
    "%%memit\n",
    "\n",
    "res = (dat\n",
    "       .groupby('model')['rain (mm/day)']\n",
    "       .agg([\"mean\", \"std\"])\n",
    "       .sort_values(\"mean\")\n",
    "       .reset_index()\n",
    "       .compute()\n",
    "      )\n",
    "print(res)"
   ]
  },
  {
   "cell_type": "markdown",
   "id": "dd1675c0",
   "metadata": {},
   "source": [
    "Calculating model-wise summaries also took a long time-- almost a minute! However, the memory usage was reasonable, at 431 MiB.\n",
    "\n",
    "Let's plot this result:"
   ]
  },
  {
   "cell_type": "code",
   "execution_count": 18,
   "id": "a1cf487d",
   "metadata": {},
   "outputs": [
    {
     "data": {
      "application/vnd.vegalite.v4+json": {
       "$schema": "https://vega.github.io/schema/vega-lite/v4.8.1.json",
       "config": {
        "view": {
         "continuousHeight": 300,
         "continuousWidth": 400
        }
       },
       "data": {
        "name": "data-23be6e7454d8e5b2f1b36c738dae2f26"
       },
       "datasets": {
        "data-23be6e7454d8e5b2f1b36c738dae2f26": [
         {
          "mean": 0.9955688065533742,
          "model": "MPI-ESM1-2-HR",
          "std": 4.083814373328665
         },
         {
          "mean": 1.0743084960846274,
          "model": "MPI-ESM1-2-LR",
          "std": 3.9117003166981625
         },
         {
          "mean": 1.1023526378414519,
          "model": "KIOST-ESM",
          "std": 3.852051283121408
         },
         {
          "mean": 1.3680300880184064,
          "model": "MRI-ESM2-0",
          "std": 4.517986881986238
         },
         {
          "mean": 1.4144852985970002,
          "model": "GFDL-CM4",
          "std": 5.024925963820876
         },
         {
          "mean": 1.5162584224015085,
          "model": "EC-Earth3-Veg-LR",
          "std": 4.714334804271028
         },
         {
          "mean": 1.610719530705644,
          "model": "MPI-ESM-1-2-HAM",
          "std": 4.885519404475815
         },
         {
          "mean": 1.6219359744037352,
          "model": "NESM3",
          "std": 4.971971736716524
         },
         {
          "mean": 1.6273731504819202,
          "model": "FGOALS-f3-L",
          "std": 5.747395822218738
         },
         {
          "mean": 1.7870250304246078,
          "model": "ACCESS-CM2",
          "std": 5.91418767375927
         },
         {
          "mean": 1.8110320459718239,
          "model": "BCC-ESM1",
          "std": 5.3583612669086484
         },
         {
          "mean": 1.8943277599146555,
          "model": "CanESM5",
          "std": 5.835786850330193
         },
         {
          "mean": 1.951832141710834,
          "model": "BCC-CSM2-MR",
          "std": 6.200969182306753
         },
         {
          "mean": 2.02607137792702,
          "model": "AWI-ESM-1-1-LR",
          "std": 5.321889430431175
         },
         {
          "mean": 2.1564194691800305,
          "model": "FGOALS-g3",
          "std": 6.015488416633581
         },
         {
          "mean": 2.1696764048890795,
          "model": "SAM0-UNICON",
          "std": 6.38324125592621
         },
         {
          "mean": 2.2175010991549473,
          "model": "ACCESS-ESM1-5",
          "std": 6.422396911760185
         },
         {
          "mean": 2.2245760270316697,
          "model": "TaiESM1",
          "std": 5.886578237608687
         },
         {
          "mean": 2.230799049800547,
          "model": "NorESM2-LM",
          "std": 5.6815617256027995
         },
         {
          "mean": 2.2329656528761115,
          "model": "NorESM2-MM",
          "std": 6.151687629756664
         },
         {
          "mean": 2.266124663481639,
          "model": "CMCC-ESM2",
          "std": 5.538429219020804
         },
         {
          "mean": 2.2793504379969334,
          "model": "CMCC-CM2-HR4",
          "std": 5.629964741566611
         },
         {
          "mean": 2.3016616924335116,
          "model": "MIROC6",
          "std": 6.393744930574047
         },
         {
          "mean": 2.383388514289193,
          "model": "CMCC-CM2-SR5",
          "std": 5.895949644658956
         },
         {
          "mean": 2.669012118497883,
          "model": "INM-CM5-0",
          "std": 6.534084427498612
         },
         {
          "mean": 2.8114628166842692,
          "model": "INM-CM4-8",
          "std": 6.266300833221434
         },
         {
          "mean": null,
          "model": "GFDL-ESM4",
          "std": null
         }
        ]
       },
       "encoding": {
        "x": {
         "field": "mean",
         "title": "Mean Rainfall Per Day (mm)",
         "type": "quantitative"
        },
        "y": {
         "field": "model",
         "sort": "-x",
         "type": "nominal"
        }
       },
       "mark": "point",
       "title": "Average Rainfall by Model"
      },
      "image/png": "[encoded data removed]",
      "text/plain": [
       "<VegaLite 4 object>\n",
       "\n",
       "If you see this message, it means the renderer has not been properly enabled\n",
       "for the frontend that you are using. For more information, see\n",
       "https://altair-viz.github.io/user_guide/troubleshooting.html\n"
      ]
     },
     "execution_count": 18,
     "metadata": {},
     "output_type": "execute_result"
    }
   ],
   "source": [
    "base = alt.Chart(res, title = \"Average Rainfall by Model\")\n",
    "points = base.mark_point().encode(\n",
    "    alt.Y(\"model:N\", sort=\"-x\"),\n",
    "    alt.X(\"mean:Q\", title = \"Mean Rainfall Per Day (mm)\")\n",
    ")\n",
    "\n",
    "points"
   ]
  },
  {
   "cell_type": "markdown",
   "id": "ea43dbe8",
   "metadata": {},
   "source": [
    "From this simple EDA, we can see that average rainfall ranges from 1 to 2.8 mm/day for the different models. Most models place the mean rain fall somewhere near 1.8-2.0 mm/day."
   ]
  },
  {
   "cell_type": "markdown",
   "id": "c39a1067",
   "metadata": {},
   "source": [
    "**Part 5 Summary**:\n",
    "\n",
    "We can see that Dask is very efficient with regards to reducing memory requirements. However, the price of using Dask is that queries are much slower to run. In contrast, the modified pandas approaches (selective columns, float32) are memory-hungry, but conduct queries quickly provided the machine has enough memory."
   ]
  },
  {
   "cell_type": "markdown",
   "id": "5a2bb38f",
   "metadata": {},
   "source": [
    "## Part 6: Perform a simple EDA in R\n",
    "\n",
    "The first step is to transfer the data from the Python kernel to the R kernel:"
   ]
  },
  {
   "cell_type": "code",
   "execution_count": 19,
   "id": "6e92e370",
   "metadata": {},
   "outputs": [],
   "source": [
    "%load_ext rpy2.ipython"
   ]
  },
  {
   "cell_type": "code",
   "execution_count": 20,
   "id": "a24448ce",
   "metadata": {},
   "outputs": [
    {
     "name": "stderr",
     "output_type": "stream",
     "text": [
      "R[write to console]: ── \u001b[1mAttaching packages\u001b[22m ──────────────────────────────────────────────────────────────────────────────────────────────────────────────────────────────────────────────────── tidyverse 1.3.0 ──\n",
      "\n",
      "R[write to console]: \u001b[32m✔\u001b[39m \u001b[34mggplot2\u001b[39m 3.3.3     \u001b[32m✔\u001b[39m \u001b[34mpurrr  \u001b[39m 0.3.4\n",
      "\u001b[32m✔\u001b[39m \u001b[34mtibble \u001b[39m 3.1.0     \u001b[32m✔\u001b[39m \u001b[34mdplyr  \u001b[39m 1.0.5\n",
      "\u001b[32m✔\u001b[39m \u001b[34mtidyr  \u001b[39m 1.1.3     \u001b[32m✔\u001b[39m \u001b[34mstringr\u001b[39m 1.4.0\n",
      "\u001b[32m✔\u001b[39m \u001b[34mreadr  \u001b[39m 1.4.0     \u001b[32m✔\u001b[39m \u001b[34mforcats\u001b[39m 0.5.1\n",
      "\n",
      "R[write to console]: ── \u001b[1mConflicts\u001b[22m ─────────────────────────────────────────────────────────────────────────────────────────────────────────────────────────────────────────────────────── tidyverse_conflicts() ──\n",
      "\u001b[31m✖\u001b[39m \u001b[34mdplyr\u001b[39m::\u001b[32mfilter()\u001b[39m masks \u001b[34mstats\u001b[39m::filter()\n",
      "\u001b[31m✖\u001b[39m \u001b[34mdplyr\u001b[39m::\u001b[32mlag()\u001b[39m    masks \u001b[34mstats\u001b[39m::lag()\n",
      "\n"
     ]
    }
   ],
   "source": [
    "%%R\n",
    "\n",
    "# load R packages\n",
    "library(tidyverse)"
   ]
  },
  {
   "attachments": {
    "390e63a1-4868-4564-af12-a6f90fd86f78.png": {
     "image/png": "[encoded data removed]"
    }
   },
   "cell_type": "markdown",
   "id": "f891f63c",
   "metadata": {},
   "source": [
    "### Option 6.1: Pandas Exchange\n",
    "\n",
    "Unfortunately, Pandas exchange is a terribly slow solution for transferring data. On the computer with the best resources this took 39 minutes:\n",
    "\n",
    "![image.png](attachment:390e63a1-4868-4564-af12-a6f90fd86f78.png)"
   ]
  },
  {
   "cell_type": "markdown",
   "id": "7067317c",
   "metadata": {},
   "source": [
    "Other other machines, this took hours to complete or crashed the kernel."
   ]
  },
  {
   "cell_type": "markdown",
   "id": "c7b181af",
   "metadata": {},
   "source": [
    "### Option 6.2: Arrow Exchange\n",
    "\n",
    "Arrow exchange can be a bit temperamental. For example, we discovered that `ds.dataset()` did not work if the CSV file was saved to disk with the index, since this would result in the first column header being unnamed. "
   ]
  },
  {
   "cell_type": "code",
   "execution_count": 21,
   "id": "3cdc8996",
   "metadata": {},
   "outputs": [
    {
     "name": "stdout",
     "output_type": "stream",
     "text": [
      "5695\n",
      "rarrow.ChunkedArray: 0.024100065231323242\n",
      "5695\n",
      "rarrow.ChunkedArray: 0.022394895553588867\n",
      "5695\n",
      "rarrow.ChunkedArray: 0.019117116928100586\n",
      "5695\n",
      "rarrow.ChunkedArray: 0.030803918838500977\n",
      "5695\n",
      "rarrow.ChunkedArray: 0.017667770385742188\n",
      "5695\n",
      "rarrow.ChunkedArray: 0.04271101951599121\n",
      "5695\n",
      "rarrow.ChunkedArray: 0.027164220809936523\n",
      "peak memory: 6706.21 MiB, increment: 2777.32 MiB\n",
      "CPU times: user 41.1 s, sys: 10.8 s, total: 51.9 s\n",
      "Wall time: 49.3 s\n"
     ]
    }
   ],
   "source": [
    "%%time\n",
    "%%memit\n",
    "\n",
    "dataset = ds.dataset(\"figshareairline/combo_data.csv\", format=\"csv\")\n",
    "table = dataset.to_table()\n",
    "r_table = pyra.converter.py2rpy(table)"
   ]
  },
  {
   "cell_type": "code",
   "execution_count": 22,
   "id": "caf8bd85",
   "metadata": {},
   "outputs": [
    {
     "name": "stdout",
     "output_type": "stream",
     "text": [
      "\u001b[90m# A tibble: 27 x 2\u001b[39m\n",
      "   model                  n\n",
      "   \u001b[3m\u001b[90m<chr>\u001b[39m\u001b[23m              \u001b[3m\u001b[90m<int>\u001b[39m\u001b[23m\n",
      "\u001b[90m 1\u001b[39m ACCESS-CM2       1\u001b[4m9\u001b[24m\u001b[4m3\u001b[24m\u001b[4m2\u001b[24m840\n",
      "\u001b[90m 2\u001b[39m ACCESS-ESM1-5    1\u001b[4m6\u001b[24m\u001b[4m1\u001b[24m\u001b[4m0\u001b[24m700\n",
      "\u001b[90m 3\u001b[39m AWI-ESM-1-1-LR    \u001b[4m9\u001b[24m\u001b[4m6\u001b[24m\u001b[4m6\u001b[24m420\n",
      "\u001b[90m 4\u001b[39m BCC-CSM2-MR      3\u001b[4m0\u001b[24m\u001b[4m3\u001b[24m\u001b[4m5\u001b[24m340\n",
      "\u001b[90m 5\u001b[39m BCC-ESM1          \u001b[4m5\u001b[24m\u001b[4m5\u001b[24m\u001b[4m1\u001b[24m880\n",
      "\u001b[90m 6\u001b[39m CanESM5           \u001b[4m5\u001b[24m\u001b[4m5\u001b[24m\u001b[4m1\u001b[24m880\n",
      "\u001b[90m 7\u001b[39m CMCC-CM2-HR4     3\u001b[4m5\u001b[24m\u001b[4m4\u001b[24m\u001b[4m1\u001b[24m230\n",
      "\u001b[90m 8\u001b[39m CMCC-CM2-SR5     3\u001b[4m5\u001b[24m\u001b[4m4\u001b[24m\u001b[4m1\u001b[24m230\n",
      "\u001b[90m 9\u001b[39m CMCC-ESM2        3\u001b[4m5\u001b[24m\u001b[4m4\u001b[24m\u001b[4m1\u001b[24m230\n",
      "\u001b[90m10\u001b[39m EC-Earth3-Veg-LR 3\u001b[4m0\u001b[24m\u001b[4m3\u001b[24m\u001b[4m7\u001b[24m320\n",
      "\u001b[90m# … with 17 more rows\u001b[39m\n",
      "Time difference of 6.626156 secs\n",
      "CPU times: user 7.23 s, sys: 8.11 s, total: 15.3 s\n",
      "Wall time: 6.68 s\n"
     ]
    }
   ],
   "source": [
    "%%time\n",
    "%%R -i r_table\n",
    "\n",
    "start_time <- Sys.time()\n",
    "result <- r_table %>% collect() %>% count(model)\n",
    "end_time <- Sys.time()\n",
    "print(result)\n",
    "\n",
    "print(end_time - start_time)"
   ]
  },
  {
   "cell_type": "markdown",
   "id": "1f51bc1f",
   "metadata": {},
   "source": [
    "### Option 6.3: Feather"
   ]
  },
  {
   "cell_type": "code",
   "execution_count": 23,
   "id": "98bb65a4",
   "metadata": {},
   "outputs": [
    {
     "name": "stdout",
     "output_type": "stream",
     "text": [
      "peak memory: 11382.07 MiB, increment: 1.44 MiB\n",
      "CPU times: user 3.3 s, sys: 6.02 s, total: 9.32 s\n",
      "Wall time: 6.5 s\n"
     ]
    }
   ],
   "source": [
    "%%time\n",
    "%%memit\n",
    "\n",
    "feather.write_feather(table, 'figshareairline/final.feather')"
   ]
  },
  {
   "cell_type": "code",
   "execution_count": 24,
   "id": "825755f6",
   "metadata": {},
   "outputs": [
    {
     "name": "stdout",
     "output_type": "stream",
     "text": [
      "\u001b[90m# A tibble: 27 x 2\u001b[39m\n",
      "   model                  n\n",
      "   \u001b[3m\u001b[90m<chr>\u001b[39m\u001b[23m              \u001b[3m\u001b[90m<int>\u001b[39m\u001b[23m\n",
      "\u001b[90m 1\u001b[39m ACCESS-CM2       1\u001b[4m9\u001b[24m\u001b[4m3\u001b[24m\u001b[4m2\u001b[24m840\n",
      "\u001b[90m 2\u001b[39m ACCESS-ESM1-5    1\u001b[4m6\u001b[24m\u001b[4m1\u001b[24m\u001b[4m0\u001b[24m700\n",
      "\u001b[90m 3\u001b[39m AWI-ESM-1-1-LR    \u001b[4m9\u001b[24m\u001b[4m6\u001b[24m\u001b[4m6\u001b[24m420\n",
      "\u001b[90m 4\u001b[39m BCC-CSM2-MR      3\u001b[4m0\u001b[24m\u001b[4m3\u001b[24m\u001b[4m5\u001b[24m340\n",
      "\u001b[90m 5\u001b[39m BCC-ESM1          \u001b[4m5\u001b[24m\u001b[4m5\u001b[24m\u001b[4m1\u001b[24m880\n",
      "\u001b[90m 6\u001b[39m CanESM5           \u001b[4m5\u001b[24m\u001b[4m5\u001b[24m\u001b[4m1\u001b[24m880\n",
      "\u001b[90m 7\u001b[39m CMCC-CM2-HR4     3\u001b[4m5\u001b[24m\u001b[4m4\u001b[24m\u001b[4m1\u001b[24m230\n",
      "\u001b[90m 8\u001b[39m CMCC-CM2-SR5     3\u001b[4m5\u001b[24m\u001b[4m4\u001b[24m\u001b[4m1\u001b[24m230\n",
      "\u001b[90m 9\u001b[39m CMCC-ESM2        3\u001b[4m5\u001b[24m\u001b[4m4\u001b[24m\u001b[4m1\u001b[24m230\n",
      "\u001b[90m10\u001b[39m EC-Earth3-Veg-LR 3\u001b[4m0\u001b[24m\u001b[4m3\u001b[24m\u001b[4m7\u001b[24m320\n",
      "\u001b[90m# … with 17 more rows\u001b[39m\n",
      "Time difference of 9.801592 secs\n",
      "CPU times: user 7.02 s, sys: 7.83 s, total: 14.9 s\n",
      "Wall time: 9.84 s\n"
     ]
    }
   ],
   "source": [
    "%%time\n",
    "%%R\n",
    "\n",
    "start_time <- Sys.time()\n",
    "ft_df <- arrow::read_feather(\"figshareairline/final.feather\",\n",
    "                             col_select = c(\"time\", \"rain (mm/day)\", \"model\"))\n",
    "result <- ft_df %>% count(model)\n",
    "end_time <- Sys.time()\n",
    "\n",
    "print(result)\n",
    "\n",
    "print(end_time - start_time)"
   ]
  },
  {
   "cell_type": "code",
   "execution_count": 25,
   "id": "238353ea",
   "metadata": {},
   "outputs": [
    {
     "name": "stdout",
     "output_type": "stream",
     "text": [
      "1.0G\tfigshareairline/final.feather\n"
     ]
    }
   ],
   "source": [
    "%%sh\n",
    "du -sh figshareairline/final.feather"
   ]
  },
  {
   "cell_type": "markdown",
   "id": "9b4d14f5",
   "metadata": {},
   "source": [
    "Combined, this implies roughly 18 seconds to transfer and analyse the data with feather. The final feather file is about 1GB in size."
   ]
  },
  {
   "cell_type": "markdown",
   "id": "274ee716",
   "metadata": {},
   "source": [
    "### Option 6.4: Parquet"
   ]
  },
  {
   "cell_type": "markdown",
   "id": "e4bc03ed",
   "metadata": {},
   "source": [
    "**Write from a pyarrow table to parquet:**"
   ]
  },
  {
   "cell_type": "code",
   "execution_count": 26,
   "id": "e2e44b6d",
   "metadata": {},
   "outputs": [
    {
     "name": "stdout",
     "output_type": "stream",
     "text": [
      "peak memory: 11784.12 MiB, increment: 40.80 MiB\n",
      "CPU times: user 9.34 s, sys: 2.18 s, total: 11.5 s\n",
      "Wall time: 12.6 s\n"
     ]
    }
   ],
   "source": [
    "%%time\n",
    "%%memit\n",
    "## writing as a single parquet\n",
    "pq.write_table(table, 'figshareairline/final.parquet')"
   ]
  },
  {
   "cell_type": "markdown",
   "id": "06185337",
   "metadata": {},
   "source": [
    "**Read from parquet:**"
   ]
  },
  {
   "cell_type": "code",
   "execution_count": 27,
   "id": "6514f59a",
   "metadata": {},
   "outputs": [
    {
     "name": "stdout",
     "output_type": "stream",
     "text": [
      "\u001b[90m# A tibble: 27 x 2\u001b[39m\n",
      "   model                  n\n",
      "   \u001b[3m\u001b[90m<chr>\u001b[39m\u001b[23m              \u001b[3m\u001b[90m<int>\u001b[39m\u001b[23m\n",
      "\u001b[90m 1\u001b[39m ACCESS-CM2       1\u001b[4m9\u001b[24m\u001b[4m3\u001b[24m\u001b[4m2\u001b[24m840\n",
      "\u001b[90m 2\u001b[39m ACCESS-ESM1-5    1\u001b[4m6\u001b[24m\u001b[4m1\u001b[24m\u001b[4m0\u001b[24m700\n",
      "\u001b[90m 3\u001b[39m AWI-ESM-1-1-LR    \u001b[4m9\u001b[24m\u001b[4m6\u001b[24m\u001b[4m6\u001b[24m420\n",
      "\u001b[90m 4\u001b[39m BCC-CSM2-MR      3\u001b[4m0\u001b[24m\u001b[4m3\u001b[24m\u001b[4m5\u001b[24m340\n",
      "\u001b[90m 5\u001b[39m BCC-ESM1          \u001b[4m5\u001b[24m\u001b[4m5\u001b[24m\u001b[4m1\u001b[24m880\n",
      "\u001b[90m 6\u001b[39m CanESM5           \u001b[4m5\u001b[24m\u001b[4m5\u001b[24m\u001b[4m1\u001b[24m880\n",
      "\u001b[90m 7\u001b[39m CMCC-CM2-HR4     3\u001b[4m5\u001b[24m\u001b[4m4\u001b[24m\u001b[4m1\u001b[24m230\n",
      "\u001b[90m 8\u001b[39m CMCC-CM2-SR5     3\u001b[4m5\u001b[24m\u001b[4m4\u001b[24m\u001b[4m1\u001b[24m230\n",
      "\u001b[90m 9\u001b[39m CMCC-ESM2        3\u001b[4m5\u001b[24m\u001b[4m4\u001b[24m\u001b[4m1\u001b[24m230\n",
      "\u001b[90m10\u001b[39m EC-Earth3-Veg-LR 3\u001b[4m0\u001b[24m\u001b[4m3\u001b[24m\u001b[4m7\u001b[24m320\n",
      "\u001b[90m# … with 17 more rows\u001b[39m\n",
      "Time difference of 9.768431 secs\n",
      "CPU times: user 7.71 s, sys: 4.47 s, total: 12.2 s\n",
      "Wall time: 9.8 s\n"
     ]
    }
   ],
   "source": [
    "%%time\n",
    "%%R\n",
    "start_time <- Sys.time()\n",
    "pq_df <- arrow::read_parquet(\"figshareairline/final.parquet\", col_select = c(\"time\", \"rain (mm/day)\", \"model\"))\n",
    "result <- pq_df %>% count(model)\n",
    "end_time <- Sys.time()\n",
    "print(result)\n",
    "\n",
    "print(end_time - start_time)"
   ]
  },
  {
   "cell_type": "code",
   "execution_count": 28,
   "id": "ae5324c7",
   "metadata": {},
   "outputs": [
    {
     "name": "stdout",
     "output_type": "stream",
     "text": [
      "544M\tfigshareairline/final.parquet\n"
     ]
    }
   ],
   "source": [
    "%%sh\n",
    "du -sh figshareairline/final.parquet"
   ]
  },
  {
   "cell_type": "markdown",
   "id": "c0c2abb6",
   "metadata": {},
   "source": [
    "Combined, this implies roughly 27 seconds to transfer and analyse the data with parquet. The final parquet file is about 544 MB in size."
   ]
  },
  {
   "cell_type": "markdown",
   "id": "fab417e1",
   "metadata": {},
   "source": [
    "### Option 6.5: CSV via Disk"
   ]
  },
  {
   "cell_type": "markdown",
   "id": "7e8ef61a",
   "metadata": {},
   "source": [
    "Finally, we wanted to check how long it would take to simply transfer the data between Python and R via a CSV file directly. Since we already saw above that it took 8 min 30 seconds to write the combination file to disk, the only thing missing for us to measure is the time/memory needed to read that CSV to R natively:"
   ]
  },
  {
   "cell_type": "code",
   "execution_count": 31,
   "id": "11a44861",
   "metadata": {},
   "outputs": [
    {
     "name": "stdout",
     "output_type": "stream",
     "text": [
      "|=================================================================| 100% 5694 MB\n",
      "   user  system elapsed \n",
      "125.107  22.383 157.112 \n"
     ]
    }
   ],
   "source": [
    "%%R\n",
    "\n",
    "system.time({\n",
    "    # read-in the data from CSV into R\n",
    "    colspec <- cols(\n",
    "          model = col_character(),\n",
    "          time = col_datetime(format = \"\"),\n",
    "          .default = col_double()\n",
    "        )\n",
    "    df <- readr::read_csv('figshareairline/combo_data.csv', col_types = colspec)\n",
    "})"
   ]
  },
  {
   "cell_type": "markdown",
   "id": "d241b348",
   "metadata": {},
   "source": [
    "As we can see above, the process of reading-in the data from CSV in R takes 2 min 37 sec with 5.6 GB of memory (roughly equivalent to the size on disk). This implies a total time of 11 minutes to transfer the data from Python to R via disk using CSV."
   ]
  },
  {
   "cell_type": "markdown",
   "id": "cd5f1da7",
   "metadata": {},
   "source": [
    "**Section 6 Summary:**"
   ]
  },
  {
   "cell_type": "markdown",
   "id": "34c749f4",
   "metadata": {},
   "source": [
    "Note, however, that the above were run on Raf's computer, and the results were far worse on other machines."
   ]
  },
  {
   "cell_type": "code",
   "execution_count": 32,
   "id": "364b2e05",
   "metadata": {},
   "outputs": [
    {
     "data": {
      "image/png": "[encoded data removed]"
     },
     "metadata": {},
     "output_type": "display_data"
    }
   ],
   "source": [
    "%%R -h 200 -w 750\n",
    "\n",
    "# on Raf's computer\n",
    "results <- tribble(\n",
    "    ~method,           ~operation, ~seconds,  ~memory_MiB,  ~disk_MB,\n",
    "    \"CSV via disk\",    \"write\",    6*60 + 5,         1881, 5.95*1024,\n",
    "    \"CSV via disk\",    \"read\",          166,         5672,         0,\n",
    "    \"Pandas exchange\", \"read\",        39*60,           NA,         0,\n",
    "    \"Arrow exchange\",  \"write\",          61,      2941.07,         0,\n",
    "    \"Feather\",         \"write\",        8.46,       103.29,      1024,\n",
    "    \"Feather\",         \"read\",          9.3,           NA,         0,\n",
    "    \"Parquet\",         \"write\",        14.6,       134.91,       544,\n",
    "    \"Parquet\",         \"read\",         11.8,           NA,         0)\n",
    "\n",
    "# Visualize\n",
    "results %>%\n",
    "    pivot_longer(cols = c(seconds, memory_MiB, disk_MB)) %>%\n",
    "    ggplot(aes(x = method, y = value, fill = operation)) +\n",
    "    geom_col() +\n",
    "    scale_y_continuous(labels = scales::comma) +\n",
    "    scale_fill_manual(values = c(\"steelblue\", \"orange\")) +\n",
    "    coord_flip() +\n",
    "    facet_wrap(~name) +\n",
    "    labs(title = \"Comparative Metrics\",\n",
    "         y = NULL)"
   ]
  },
  {
   "cell_type": "markdown",
   "id": "40e1c0f7",
   "metadata": {},
   "source": [
    "Please note that the Pandas Exchange result for the memory_MiB plot is N/A.\n",
    "\n",
    "On the whole, it appears that Parquet and Feather both achieve decent results. The trade-off between the two is that Parquet is more lightweight on disk but requires slightly longer read and write time, whereas feather takes roughly double the disk space but runs ~ 30% faster.\n",
    "\n",
    "Note, since `%%memit` does not work for cells with R magics, the memory comparison may not be entirely fair. As hypothesized above, it is also possible that the memory requirements reported may be higher on machines that have a lot of free memory available (no memory swapping or virtual memory). Adding together memory requirements for writing in Python and reading in R may also not be quite correct-- but still gives us a rough idea.\n",
    "\n",
    "And finally, it does appear that pandas exchange is universally bad for large datasets.\n",
    "\n",
    "One drawback of the above approaches is that we needed to create an intermediary (and heavy) `combo_data.csv`, instead of working directly from separate source files. However, weighing all the benefits and drawbacks, our final choice would be to use Feather. As we are working locally using our own computers, the faster read/write times would seem more beneficial. On the other hand, when we move forward and build our models and analyses on the cloud, it might be a good idea to use parquet files due to its reduced file size. "
   ]
  },
  {
   "cell_type": "markdown",
   "id": "017a518a",
   "metadata": {},
   "source": [
    "## References\n",
    "\n",
    "\n",
    "- Beuzen, Tomas (2021): Daily rainfall over NSW, Australia. figshare. Dataset. https://doi.org/10.6084/m9.figshare.14096681.v3"
   ]
  }
 ],
 "metadata": {
  "kernelspec": {
   "display_name": "Python [conda env:525]",
   "language": "python",
   "name": "conda-env-525-py"
  },
  "language_info": {
   "codemirror_mode": {
    "name": "ipython",
    "version": 3
   },
   "file_extension": ".py",
   "mimetype": "text/x-python",
   "name": "python",
   "nbconvert_exporter": "python",
   "pygments_lexer": "ipython3",
   "version": "3.9.2"
  }
 },
 "nbformat": 4,
 "nbformat_minor": 5
}
